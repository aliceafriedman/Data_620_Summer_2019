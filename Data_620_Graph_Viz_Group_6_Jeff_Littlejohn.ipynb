{
 "cells": [
  {
   "cell_type": "markdown",
   "metadata": {},
   "source": [
    "#Data 620 - Graph Visualization\n",
    "\n",
    "##Assignment Week 2, Part 1\n",
    "##Group 6 - Alice Friedman, Stephen Jones, Jeff Littlejohn, Jun Pan\n",
    "##Due: 6/12/19\n",
    "\n",
    "###The Assignment\n",
    "\n",
    "Our task is to load a graph database of our choice and then conduct a basic analysis on the graph. That anaylsis should include calculating the graph's diameter and at least one other metric of our choosing, using either built-in functions to an existing package or our own methodology. We are to use a visualization tool to display our data.\n",
    "\n",
    "###Our Data: StackOverflow Math Questions & Answers\n",
    "\n",
    "We are utilizing a dataset from MathOverflow, one of the many question and answer sites that spun off from the excellent programming focused StackOverflow site. This data is provided by Stanford University's __[SNAP program](https://snap.stanford.edu/index.html)__, which hosts a number of graph and network datasets.\n",
    "\n",
    "From Stanford's documentation regarding the dataset:\n",
    "\n",
    ">This is a temporal network of interactions on the stack exchange web site Math Overflow. There are three different types of interactions represented by a directed edge (u, v, t):\n",
    "\n",
    ">user u answered user v's question at time t (in the graph sx-mathoverflow-a2q)\n",
    ">user u commented on user v's question at time t (in the graph sx-mathoverflow-c2q)\n",
    ">user u commented on user v's answer at time t (in the graph sx-mathoverflow-c2a)\n",
    "\n",
    "We will use the __[\"a2q\" database](https://snap.stanford.edu/data/sx-mathoverflow-a2q.txt.gz)__, which includes answers to questions. MathOverflow allows users to pose math questions to a self-selected audience of experts and hobbyists. Its conventions allow users to answer questions, post \"comments\" on questions, or post comments on answers. For our analysis, we will only look at answers and not comments. Many of the best and most insightful exchanges on the site happens in comments, so our look will be perfunctory.\n",
    "\n",
    "More details on our dataset:\n",
    "\n",
    ">Dataset statistics (sx-mathoverflow-a2q)<br>\n",
    ">Nodes\t21688<br>\n",
    ">Temporal Edges\t107581<br>\n",
    ">Edges in static graph\t90489<br>\n",
    ">Time span\t2350 days<br>\n",
    "\n",
    "Let's translate this to English - this is more than 20,000 users (nodes) interacting with more than 100,000 questions during a time period of just fewer than seven years.\n",
    "\n",
    "This will be a directional graph - users are ANSWERING the questions of others. The edges are indicative of a direction. A contrast would be relationships on Facebook - relationships on that site are undirected. Self-loops are possible in that a user can answer their own question.\n",
    "\n",
    "###Preparing the Data"
   ]
  },
  {
   "cell_type": "code",
   "execution_count": 1,
   "metadata": {},
   "outputs": [],
   "source": [
    "#load the packages\n",
    "import networkx as nx\n",
    "import matplotlib.pyplot as plot\n",
    "import pandas as pd"
   ]
  },
  {
   "cell_type": "code",
   "execution_count": 2,
   "metadata": {
    "scrolled": true
   },
   "outputs": [
    {
     "data": {
      "text/plain": [
       "'Name: \\nType: DiGraph\\nNumber of nodes: 21688\\nNumber of edges: 90489\\nAverage in degree:   4.1723\\nAverage out degree:   4.1723'"
      ]
     },
     "execution_count": 2,
     "metadata": {},
     "output_type": "execute_result"
    }
   ],
   "source": [
    "#load our data\n",
    "#unzipped data from this link - https://snap.stanford.edu/data/sx-mathoverflow-a2q.txt.gz \n",
    "#should have unzipped programatically, but had issues using read_edgelist with a url\n",
    "#also failed trying to get pandas to get the file and then using from_pandas_edgelist to load as graph\n",
    "#digraph used as option, as that captures our data as discussed above\n",
    "G = nx.read_edgelist('sx-mathoverflow-a2q.txt', create_using=nx.DiGraph(), nodetype=int, data=(('weight',float),))\n",
    "nx.info(G)"
   ]
  },
  {
   "cell_type": "markdown",
   "metadata": {},
   "source": [
    "Our nodes match the expected amount, and the number of edges matches the edges in the static graph as detailed by Stanford's metadata."
   ]
  },
  {
   "cell_type": "markdown",
   "metadata": {},
   "source": [
    "###Visualize the Network"
   ]
  },
  {
   "cell_type": "code",
   "execution_count": 4,
   "metadata": {},
   "outputs": [
    {
     "data": {
      "image/png": "[encoded data removed]",
      "text/plain": [
       "<Figure size 432x288 with 1 Axes>"
      ]
     },
     "metadata": {},
     "output_type": "display_data"
    }
   ],
   "source": [
    "nx.draw(G)\n",
    "plot.show()"
   ]
  },
  {
   "cell_type": "markdown",
   "metadata": {},
   "source": [
    "###Analyze the Network\n",
    "\n",
    "A graph's diameter is the length of the shortest path between the furthest away nodes. \n",
    "\n",
    "Let's start with the networkx function for diameter."
   ]
  },
  {
   "cell_type": "code",
   "execution_count": null,
   "metadata": {},
   "outputs": [],
   "source": [
    "#nx.diameter(G)"
   ]
  },
  {
   "cell_type": "markdown",
   "metadata": {},
   "source": [
    "###Conclusion"
   ]
  }
 ],
 "metadata": {
  "kernelspec": {
   "display_name": "Python 3",
   "language": "python",
   "name": "python3"
  },
  "language_info": {
   "codemirror_mode": {
    "name": "ipython",
    "version": 3
   },
   "file_extension": ".py",
   "mimetype": "text/x-python",
   "name": "python",
   "nbconvert_exporter": "python",
   "pygments_lexer": "ipython3",
   "version": "3.7.3"
  }
 },
 "nbformat": 4,
 "nbformat_minor": 2
}
