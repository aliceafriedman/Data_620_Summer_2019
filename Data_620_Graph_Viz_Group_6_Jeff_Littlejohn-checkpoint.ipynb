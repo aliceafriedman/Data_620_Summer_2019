{
 "cells": [
  {
   "attachments": {},
   "cell_type": "markdown",
   "metadata": {},
   "source": [
    "#Data 620 - Graph Visualization\n",
    "\n",
    "##Assignment Week 2, Part 1\n",
    "##Group 6 - Alice Friedman, Stephen Jones, Jeff Littlejohn, Jun Pan\n",
    "##Due: 6/12/19\n",
    "\n",
    "###The Assignment\n",
    "\n",
    "Our task is to load a graph database of our choice and then conduct a basic analysis on the graph. That anaylsis should include calculating the graph's diameter and at least one other metric of our choosing, using either built-in functions to an existing package or our own methodology. We are to use a visualization tool to display our data.\n",
    "\n",
    "###Our Data: StackOverflow Math Questions & Answers\n",
    "\n",
    "We are utilizing a dataset from MathOverflow, one of the many question and answer sites that spun off from the excellent programming focused StackOverflow site. This data is provided by Stanford University's __[SNAP program](https://snap.stanford.edu/index.html)__, which hosts a number of graph and network datasets.\n",
    "\n",
    "From Stanford's documentation regarding the dataset:\n",
    "\n",
    ">This is a temporal network of interactions on the stack exchange web site Math Overflow. There are three different types of interactions represented by a directed edge (u, v, t):\n",
    "\n",
    ">user u answered user v's question at time t (in the graph sx-mathoverflow-a2q)\n",
    ">user u commented on user v's question at time t (in the graph sx-mathoverflow-c2q)\n",
    ">user u commented on user v's answer at time t (in the graph sx-mathoverflow-c2a)\n",
    "\n",
    "We will use the \"a2q\" database, which only includes answers. MathOverflow allows users to pose math questions to a self-selected audience of experts and hobbyists. Its conventions allow users to answer questions, post \"comments\" on questions, or post comments on answers. For our analysis, we will only look at answers and not comments. Many of the best and most insightful exchanges on the site happens in comments, so our look will be perfunctory.\n",
    "\n",
    "More details on our dataset:\n",
    "\n",
    ">Dataset statistics (sx-mathoverflow-a2q)\n",
    ">Nodes\t21688\n",
    ">Temporal Edges\t107581\n",
    ">Edges in static graph\t90489\n",
    ">Time span\t2350 days\n",
    "\n",
    "Let's translate this to English - this is more than 20,000 users (nodes) interacting with more than 100,000 questions during a time period of just fewer than seven years.\n",
    "\n",
    "###Preparing the Data"
   ]
  },
  {
   "cell_type": "code",
   "execution_count": null,
   "metadata": {},
   "outputs": [],
   "source": [
    "#do the damn thing\n",
    "import networkx as nx\n",
    "import matplotlib.pyplot as plot"
   ]
  }
 ],
 "metadata": {
  "kernelspec": {
   "display_name": "Python 3",
   "language": "python",
   "name": "python3"
  },
  "language_info": {
   "codemirror_mode": {
    "name": "ipython",
    "version": 3
   },
   "file_extension": ".py",
   "mimetype": "text/x-python",
   "name": "python",
   "nbconvert_exporter": "python",
   "pygments_lexer": "ipython3",
   "version": "3.7.3"
  }
 },
 "nbformat": 4,
 "nbformat_minor": 2
}
