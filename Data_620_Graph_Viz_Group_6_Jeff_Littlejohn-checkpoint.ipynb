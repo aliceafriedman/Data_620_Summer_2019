{
 "cells": [
  {
   "cell_type": "markdown",
   "metadata": {},
   "source": [
    "#Data 620 - Graph Visualization\n",
    "\n",
    "##Assignment Week 2, Part 1\n",
    "##Group 6 - Alice Friedman, Stephen Jones, Jeff Littlejohn, Jun Pan\n",
    "##Due: 6/12/19\n",
    "\n",
    "###The Ask\n",
    "\n",
    "Our assignment is to load a graph database of our choice and then conduct a basic analysis on the graph. That anaylsis should include calculating the graph's diameter and at least one other metric of our choosing, using either built-in functions to an existing package or our own methodology. We are to use a visualization tool to display our data.\n",
    "\n",
    "###Our Data: StackOverflow Math Questions & Answers\n",
    "\n",
    "\n"
   ]
  },
  {
   "cell_type": "code",
   "execution_count": null,
   "metadata": {},
   "outputs": [],
   "source": [
    "#do the damn thing\n",
    "import networkx as nx\n",
    "import matplotlib.pyplot as plot"
   ]
  }
 ],
 "metadata": {
  "kernelspec": {
   "display_name": "Python 3",
   "language": "python",
   "name": "python3"
  },
  "language_info": {
   "codemirror_mode": {
    "name": "ipython",
    "version": 3
   },
   "file_extension": ".py",
   "mimetype": "text/x-python",
   "name": "python",
   "nbconvert_exporter": "python",
   "pygments_lexer": "ipython3",
   "version": "3.7.3"
  }
 },
 "nbformat": 4,
 "nbformat_minor": 2
}
